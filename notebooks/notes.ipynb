{
 "cells": [
  {
   "cell_type": "code",
   "execution_count": 1,
   "metadata": {},
   "outputs": [
    {
     "name": "stderr",
     "output_type": "stream",
     "text": [
      "/home/act65/anaconda3/lib/python3.6/site-packages/h5py/__init__.py:36: FutureWarning: Conversion of the second argument of issubdtype from `float` to `np.floating` is deprecated. In future, it will be treated as `np.float64 == np.dtype(float).type`.\n",
      "  from ._conv import register_converters as _register_converters\n"
     ]
    }
   ],
   "source": [
    "import tensorflow as tf\n",
    "import tangent\n",
    "tf.enable_eager_execution()"
   ]
  },
  {
   "cell_type": "code",
   "execution_count": null,
   "metadata": {},
   "outputs": [],
   "source": []
  },
  {
   "cell_type": "code",
   "execution_count": 82,
   "metadata": {},
   "outputs": [
    {
     "data": {
      "text/plain": [
       "<tf.Tensor: id=1734, shape=(8, 2), dtype=float32, numpy=\n",
       "array([[ 1.30135   , -0.63694954],\n",
       "       [ 1.1950794 , -1.4337986 ],\n",
       "       [ 1.3677213 ,  1.8533424 ],\n",
       "       [ 0.22865246,  0.97131443],\n",
       "       [-1.3661206 , -0.93618524],\n",
       "       [-0.13868548, -0.20348763],\n",
       "       [-0.23222283, -0.68603843],\n",
       "       [-0.12158792, -0.9232079 ]], dtype=float32)>"
      ]
     },
     "execution_count": 82,
     "metadata": {},
     "output_type": "execute_result"
    }
   ],
   "source": [
    "n = 8\n",
    "x = tf.random_normal([10, n])\n",
    "W = tf.random_normal([n,2])\n",
    "W"
   ]
  },
  {
   "cell_type": "code",
   "execution_count": 87,
   "metadata": {},
   "outputs": [
    {
     "data": {
      "text/plain": [
       "TensorShape([Dimension(10), Dimension(2)])"
      ]
     },
     "execution_count": 87,
     "metadata": {},
     "output_type": "execute_result"
    }
   ],
   "source": [
    "def matmul(x, y):\n",
    "    x = tf.expand_dims(x, -1)\n",
    "    y = tf.expand_dims(y, 0)\n",
    "    return tf.reduce_sum(tf.multiply(x, y), axis=1)\n",
    "matmul(x, W).shape"
   ]
  },
  {
   "cell_type": "code",
   "execution_count": 96,
   "metadata": {},
   "outputs": [],
   "source": [
    "# ForwardNotImplementedError: Forward mode for function \"gradients\" is not yet implemented.\n",
    "# ForwardNotImplementedError: Forward mode for function \"matmul\" is not yet implemented."
   ]
  },
  {
   "cell_type": "code",
   "execution_count": 95,
   "metadata": {},
   "outputs": [],
   "source": [
    "def energy_fn(x, W, b):\n",
    "    h = tf.nn.sigmoid(x)\n",
    "\n",
    "    energy = -0.5*tf.reduce_sum(tf.matmul(h, tf.matmul(W, h, transpose_b=True)), axis=1)\n",
    "    energy += 0.5*tf.reduce_sum(tf.square(h*b), axis=1)\n",
    "    energy += 0.5*tf.reduce_sum(x**2, axis=1)\n",
    "\n",
    "    return tf.reduce_mean(energy)\n",
    "\n",
    "def step(x, W):\n",
    "    return matmul(x, W)\n",
    "\n",
    "forward_dfdx = tangent.autodiff(step, mode='forward')"
   ]
  },
  {
   "cell_type": "code",
   "execution_count": 89,
   "metadata": {},
   "outputs": [],
   "source": [
    "# forward_dfdx(x, W, tf.ones_like(x))"
   ]
  },
  {
   "cell_type": "code",
   "execution_count": 90,
   "metadata": {},
   "outputs": [],
   "source": [
    "def forward(state, n_steps=1):\n",
    "    \n",
    "    def _step(i, state, dydx):\n",
    "        # a wrapper for self.step(...)\n",
    "        new_state = step(state, W)\n",
    "        return i + 1, new_state, forward_dfdx(x, W, dx=dydx)\n",
    "\n",
    "    with tf.name_scope('forward'):\n",
    "        while_condition = lambda i, j, k : tf.less(i, n_steps)\n",
    "        i = tf.constant(0)\n",
    "        dydx = tf.ones_like(state)\n",
    "        new_i_, new_state, new_dydx = tf.while_loop(\n",
    "            while_condition, \n",
    "            _step, \n",
    "            loop_vars=[i, state, dydx], \n",
    "            back_prop=False)\n",
    "\n",
    "        return new_state, new_dydx"
   ]
  },
  {
   "cell_type": "code",
   "execution_count": 91,
   "metadata": {},
   "outputs": [],
   "source": [
    "y, dy = forward(x)"
   ]
  },
  {
   "cell_type": "code",
   "execution_count": 92,
   "metadata": {},
   "outputs": [
    {
     "data": {
      "text/plain": [
       "TensorShape([Dimension(10), Dimension(2)])"
      ]
     },
     "execution_count": 92,
     "metadata": {},
     "output_type": "execute_result"
    }
   ],
   "source": [
    "dy.shape"
   ]
  },
  {
   "cell_type": "code",
   "execution_count": null,
   "metadata": {},
   "outputs": [],
   "source": []
  }
 ],
 "metadata": {
  "kernelspec": {
   "display_name": "Python 3",
   "language": "python",
   "name": "python3"
  },
  "language_info": {
   "codemirror_mode": {
    "name": "ipython",
    "version": 3
   },
   "file_extension": ".py",
   "mimetype": "text/x-python",
   "name": "python",
   "nbconvert_exporter": "python",
   "pygments_lexer": "ipython3",
   "version": "3.6.5"
  }
 },
 "nbformat": 4,
 "nbformat_minor": 2
}
