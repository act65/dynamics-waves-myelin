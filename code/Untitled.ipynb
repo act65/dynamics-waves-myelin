{
 "cells": [
  {
   "cell_type": "code",
   "execution_count": 1,
   "metadata": {},
   "outputs": [
    {
     "name": "stderr",
     "output_type": "stream",
     "text": [
      "/home/act65/anaconda3/lib/python3.6/site-packages/h5py/__init__.py:36: FutureWarning: Conversion of the second argument of issubdtype from `float` to `np.floating` is deprecated. In future, it will be treated as `np.float64 == np.dtype(float).type`.\n",
      "  from ._conv import register_converters as _register_converters\n"
     ]
    }
   ],
   "source": [
    "import tensorflow as tf"
   ]
  },
  {
   "cell_type": "code",
   "execution_count": 34,
   "metadata": {},
   "outputs": [],
   "source": [
    "n = 1000"
   ]
  },
  {
   "cell_type": "code",
   "execution_count": 40,
   "metadata": {},
   "outputs": [],
   "source": [
    "idx = tf.random_uniform(minval=0, maxval=n, shape=[100, 2], dtype=tf.int64)\n",
    "vals = tf.random_normal([100])\n",
    "sp_a = tf.SparseTensor(indices=idx, values=vals, dense_shape=[n, n])\n",
    "b = tf.random_normal([n, 12])\n",
    "\n",
    "r1 = tf.sparse_tensor_dense_matmul(sp_a, b)"
   ]
  },
  {
   "cell_type": "code",
   "execution_count": null,
   "metadata": {},
   "outputs": [],
   "source": []
  },
  {
   "cell_type": "code",
   "execution_count": 37,
   "metadata": {},
   "outputs": [],
   "source": [
    "sp_a = tf.clip_by_value(tf.random_normal([n, n]), -0.8, 0.8)\n",
    "b = tf.random_normal([n, 12])\n",
    "\n",
    "r2 = tf.matmul(\n",
    "    sp_a,\n",
    "    b, a_is_sparse=True)"
   ]
  },
  {
   "cell_type": "code",
   "execution_count": 38,
   "metadata": {},
   "outputs": [],
   "source": [
    "sp_a = tf.clip_by_value(tf.random_normal([n, n]), -0.1, 0.1)\n",
    "b = tf.random_normal([n, 12])\n",
    "\n",
    "r3 = tf.matmul(\n",
    "    sp_a, b)"
   ]
  },
  {
   "cell_type": "code",
   "execution_count": 39,
   "metadata": {},
   "outputs": [
    {
     "name": "stdout",
     "output_type": "stream",
     "text": [
      "741 µs ± 252 µs per loop (mean ± std. dev. of 7 runs, 1000 loops each)\n",
      "24.4 ms ± 1.14 ms per loop (mean ± std. dev. of 7 runs, 10 loops each)\n",
      "17.6 ms ± 1.46 ms per loop (mean ± std. dev. of 7 runs, 100 loops each)\n"
     ]
    }
   ],
   "source": [
    "with tf.Session() as sess:\n",
    "    %timeit sess.run(r1)\n",
    "    %timeit sess.run(r2)\n",
    "    %timeit sess.run(r3)"
   ]
  },
  {
   "cell_type": "code",
   "execution_count": null,
   "metadata": {},
   "outputs": [],
   "source": []
  }
 ],
 "metadata": {
  "kernelspec": {
   "display_name": "Python 3",
   "language": "python",
   "name": "python3"
  },
  "language_info": {
   "codemirror_mode": {
    "name": "ipython",
    "version": 3
   },
   "file_extension": ".py",
   "mimetype": "text/x-python",
   "name": "python",
   "nbconvert_exporter": "python",
   "pygments_lexer": "ipython3",
   "version": "3.6.5"
  }
 },
 "nbformat": 4,
 "nbformat_minor": 2
}
